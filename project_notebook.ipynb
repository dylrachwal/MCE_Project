{
 "cells": [
  {
   "cell_type": "markdown",
   "id": "a4185bf0-fa7e-4248-9713-e6966acdd86d",
   "metadata": {},
   "source": [
    "# Students : Hazim Benslimane, Christopher Jabea, Dylan Rachwal, Alexandre Thouvenot "
   ]
  },
  {
   "cell_type": "markdown",
   "id": "9dce8106-ada5-4999-8b21-7a621abbe833",
   "metadata": {},
   "source": [
    "## Project of Machine learning for classification on the 2 datasets Banknote Authentication and Chronic Kidney Disease"
   ]
  },
  {
   "cell_type": "code",
   "execution_count": 10,
   "id": "0cc363bd-406c-480c-8321-ab92e5fcf2ae",
   "metadata": {},
   "outputs": [
    {
     "name": "stdout",
     "output_type": "stream",
     "text": [
      "Populating the interactive namespace from numpy and matplotlib\n"
     ]
    }
   ],
   "source": [
    "%matplotlib inline\n",
    "%pylab inline\n",
    "import numpy as np\n",
    "import matplotlib.pyplot as plt\n",
    "import matplotlib as mpl\n",
    "import pandas as pd\n",
    "from sklearn import svm\n",
    "from sklearn.tree import DecisionTreeRegressor, DecisionTreeClassifier\n",
    "from sklearn.model_selection import cross_val_score, ShuffleSplit\n",
    "from sklearn.tree import export_graphviz\n",
    "from graphviz import Source\n",
    "from functions import *\n",
    "\n",
    "\n",
    "mpl.style.use(\"ggplot\")"
   ]
  },
  {
   "cell_type": "code",
   "execution_count": 11,
   "id": "5ea4dac4-6299-4543-8849-8bb4ada46d1a",
   "metadata": {},
   "outputs": [
    {
     "name": "stdout",
     "output_type": "stream",
     "text": [
      "[[  4.5459    8.1674   -2.4586   -1.4621 ]\n",
      " [  3.866    -2.6383    1.9242    0.10645]\n",
      " [  3.4566    9.5228   -4.0112   -3.5944 ]\n",
      " ...\n",
      " [ -3.7503  -13.4586   17.5932   -2.7771 ]\n",
      " [ -3.5637   -8.3827   12.393    -1.2823 ]\n",
      " [ -2.5419   -0.65804   2.6842    1.1952 ]]\n",
      "[0 0 0 ... 1 1 1]\n"
     ]
    }
   ],
   "source": [
    "X,Y,class_labels = load_data(\"data_banknote_authentication\")\n",
    "print(X)\n",
    "print(Y)"
   ]
  },
  {
   "cell_type": "code",
   "execution_count": 12,
   "id": "625f69d1-cf6f-4564-b1b2-8a0693c177be",
   "metadata": {},
   "outputs": [],
   "source": [
    "X_train, X_test, Y_train, Y_test = split_data(X, Y, 900)"
   ]
  },
  {
   "cell_type": "code",
   "execution_count": 13,
   "id": "64f3fbca-4dd6-4c79-88a0-bd4f94393b93",
   "metadata": {},
   "outputs": [],
   "source": [
    "Y_pred = predict_SVC(X_train, X_test, Y_train)"
   ]
  },
  {
   "cell_type": "code",
   "execution_count": 14,
   "id": "e891e51f-2a2e-4f7d-b87d-5dee1c543dee",
   "metadata": {},
   "outputs": [
    {
     "name": "stdout",
     "output_type": "stream",
     "text": [
      "[[0.99610895 1.        ]]\n",
      "[[1.         0.99534884]]\n"
     ]
    }
   ],
   "source": [
    "precisions, recalls = precision_recall_multilabels(Y_test,Y_pred,class_labels)\n",
    "print(precisions)\n",
    "print(recalls)"
   ]
  },
  {
   "cell_type": "code",
   "execution_count": null,
   "id": "2b20b6d6-3948-405d-a54b-6cc4d5a8100b",
   "metadata": {},
   "outputs": [],
   "source": []
  },
  {
   "cell_type": "code",
   "execution_count": null,
   "id": "f4ea3f4a-523b-464f-8ff9-26d53b5181da",
   "metadata": {},
   "outputs": [],
   "source": []
  }
 ],
 "metadata": {
  "kernelspec": {
   "display_name": "Python 3 (ipykernel)",
   "language": "python",
   "name": "python3"
  },
  "language_info": {
   "codemirror_mode": {
    "name": "ipython",
    "version": 3
   },
   "file_extension": ".py",
   "mimetype": "text/x-python",
   "name": "python",
   "nbconvert_exporter": "python",
   "pygments_lexer": "ipython3",
   "version": "3.9.7"
  }
 },
 "nbformat": 4,
 "nbformat_minor": 5
}
