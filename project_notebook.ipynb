{
 "cells": [
  {
   "cell_type": "markdown",
   "id": "a4185bf0-fa7e-4248-9713-e6966acdd86d",
   "metadata": {},
   "source": [
    "# Students : Hazim Benslimane, Christopher Jabea, Dylan Rachwal, Alexandre Thouvenot "
   ]
  },
  {
   "cell_type": "markdown",
   "id": "9dce8106-ada5-4999-8b21-7a621abbe833",
   "metadata": {},
   "source": [
    "## Project of Machine learning for classification on the 2 datasets Banknote Authentication and Chronic Kidney Disease"
   ]
  },
  {
   "cell_type": "code",
   "execution_count": null,
   "id": "0cc363bd-406c-480c-8321-ab92e5fcf2ae",
   "metadata": {},
   "outputs": [],
   "source": []
  }
 ],
 "metadata": {
  "kernelspec": {
   "display_name": "Python 3 (ipykernel)",
   "language": "python",
   "name": "python3"
  },
  "language_info": {
   "codemirror_mode": {
    "name": "ipython",
    "version": 3
   },
   "file_extension": ".py",
   "mimetype": "text/x-python",
   "name": "python",
   "nbconvert_exporter": "python",
   "pygments_lexer": "ipython3",
   "version": "3.9.7"
  }
 },
 "nbformat": 4,
 "nbformat_minor": 5
}
